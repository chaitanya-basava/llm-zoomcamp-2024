{
 "cells": [
  {
   "cell_type": "code",
   "id": "initial_id",
   "metadata": {
    "collapsed": true,
    "ExecuteTime": {
     "end_time": "2024-07-04T01:59:04.236693Z",
     "start_time": "2024-07-04T01:59:03.245778Z"
    }
   },
   "source": [
    "!rm -f minsearch.py\n",
    "!wget https://raw.githubusercontent.com/alexeygrigorev/minsearch/main/minsearch.py"
   ],
   "outputs": [
    {
     "name": "stdout",
     "output_type": "stream",
     "text": [
      "--2024-07-03 18:59:03--  https://raw.githubusercontent.com/alexeygrigorev/minsearch/main/minsearch.py\r\n",
      "Resolving raw.githubusercontent.com (raw.githubusercontent.com)... 2606:50c0:8002::154, 2606:50c0:8003::154, 2606:50c0:8000::154, ...\r\n",
      "Connecting to raw.githubusercontent.com (raw.githubusercontent.com)|2606:50c0:8002::154|:443... connected.\r\n",
      "HTTP request sent, awaiting response... 200 OK\r\n",
      "Length: 3832 (3.7K) [text/plain]\r\n",
      "Saving to: ‘minsearch.py’\r\n",
      "\r\n",
      "minsearch.py        100%[===================>]   3.74K  --.-KB/s    in 0s      \r\n",
      "\r\n",
      "2024-07-03 18:59:04 (23.0 MB/s) - ‘minsearch.py’ saved [3832/3832]\r\n",
      "\r\n"
     ]
    }
   ],
   "execution_count": 1
  },
  {
   "metadata": {
    "ExecuteTime": {
     "end_time": "2024-07-04T01:59:32.703456Z",
     "start_time": "2024-07-04T01:59:25.395682Z"
    }
   },
   "cell_type": "code",
   "source": [
    "import requests \n",
    "import minsearch\n",
    "\n",
    "docs_url = 'https://github.com/DataTalksClub/llm-zoomcamp/blob/main/01-intro/documents.json?raw=1'\n",
    "docs_response = requests.get(docs_url)\n",
    "documents_raw = docs_response.json()\n",
    "\n",
    "documents = []\n",
    "\n",
    "for course in documents_raw:\n",
    "    course_name = course['course']\n",
    "\n",
    "    for doc in course['documents']:\n",
    "        doc['course'] = course_name\n",
    "        documents.append(doc)\n",
    "\n",
    "index = minsearch.Index(\n",
    "    text_fields=[\"question\", \"text\", \"section\"],\n",
    "    keyword_fields=[\"course\"]\n",
    ")\n",
    "\n",
    "index.fit(documents)"
   ],
   "id": "3ef359d6cc707578",
   "outputs": [
    {
     "data": {
      "text/plain": [
       "<minsearch.Index at 0x10e7239a0>"
      ]
     },
     "execution_count": 2,
     "metadata": {},
     "output_type": "execute_result"
    }
   ],
   "execution_count": 2
  },
  {
   "metadata": {
    "ExecuteTime": {
     "end_time": "2024-07-04T01:59:36.495220Z",
     "start_time": "2024-07-04T01:59:36.490668Z"
    }
   },
   "cell_type": "code",
   "source": [
    "def search(query):\n",
    "    boost = {'question': 3.0, 'section': 0.5}\n",
    "\n",
    "    results = index.search(\n",
    "        query=query,\n",
    "        filter_dict={'course': 'data-engineering-zoomcamp'},\n",
    "        boost_dict=boost,\n",
    "        num_results=5\n",
    "    )\n",
    "\n",
    "    return results"
   ],
   "id": "6a38ccb1b3785c59",
   "outputs": [],
   "execution_count": 3
  },
  {
   "metadata": {
    "ExecuteTime": {
     "end_time": "2024-07-04T01:59:57.135654Z",
     "start_time": "2024-07-04T01:59:57.129299Z"
    }
   },
   "cell_type": "code",
   "source": [
    "def build_prompt(query, search_results):\n",
    "    prompt_template = \"\"\"\n",
    "You're a course teaching assistant. Answer the QUESTION based on the CONTEXT from the FAQ database.\n",
    "Use only the facts from the CONTEXT when answering the QUESTION.\n",
    "\n",
    "QUESTION: {question}\n",
    "\n",
    "CONTEXT: \n",
    "{context}\n",
    "\"\"\".strip()\n",
    "\n",
    "    context = \"\"\n",
    "    \n",
    "    for doc in search_results:\n",
    "        context = context + f\"section: {doc['section']}\\nquestion: {doc['question']}\\nanswer: {doc['text']}\\n\\n\"\n",
    "    \n",
    "    prompt = prompt_template.format(question=query, context=context).strip()\n",
    "    return prompt\n",
    "\n",
    "def llm(prompt):\n",
    "    response = client.chat.completions.create(\n",
    "        model='phi3',\n",
    "        messages=[{\"role\": \"user\", \"content\": prompt}]\n",
    "    )\n",
    "    \n",
    "    return response.choices[0].message.content"
   ],
   "id": "61c0237d8b5dc640",
   "outputs": [],
   "execution_count": 4
  },
  {
   "metadata": {
    "ExecuteTime": {
     "end_time": "2024-07-04T02:03:00.410061Z",
     "start_time": "2024-07-04T02:03:00.405922Z"
    }
   },
   "cell_type": "code",
   "source": [
    "def rag(query):\n",
    "    search_results = search(query)\n",
    "    prompt = build_prompt(query, search_results)\n",
    "    answer = llm(prompt)\n",
    "    return answer"
   ],
   "id": "9731854ffe643d7e",
   "outputs": [],
   "execution_count": 12
  },
  {
   "metadata": {
    "ExecuteTime": {
     "end_time": "2024-07-04T02:01:51.592902Z",
     "start_time": "2024-07-04T02:01:51.568146Z"
    }
   },
   "cell_type": "code",
   "source": [
    "from openai import OpenAI\n",
    "\n",
    "client = OpenAI(\n",
    "    base_url='http://localhost:11434/v1/',\n",
    "    api_key='ollama',\n",
    ")"
   ],
   "id": "8ecffadb4bdf18d2",
   "outputs": [],
   "execution_count": 9
  },
  {
   "metadata": {
    "ExecuteTime": {
     "end_time": "2024-07-04T02:03:00.415935Z",
     "start_time": "2024-07-04T02:03:00.411949Z"
    }
   },
   "cell_type": "code",
   "source": "query = \"Can I still enroll in the course?\"",
   "id": "df0b35c45d890dc6",
   "outputs": [],
   "execution_count": 13
  },
  {
   "metadata": {
    "ExecuteTime": {
     "end_time": "2024-07-04T02:03:00.403247Z",
     "start_time": "2024-07-04T02:02:30.666009Z"
    }
   },
   "cell_type": "code",
   "source": "print(llm(query))",
   "id": "8d19e37373043fda",
   "outputs": [
    {
     "name": "stdout",
     "output_type": "stream",
     "text": [
      " Yes, you can potentially still enroll if:\n",
      "\n",
      "1. The application window hasn't closed yet and there are more spots available than students who have applied. \n",
      "2. Your eligibility has not expired (usually due to a cut-off time for applications). If your deadline is approaching, it would be wise to submit promptly before the closing date or confirm with an enrollment officer that you still qualify despite being past some unspecified threshold in time since application submission.\n",
      "3. There are no further prerequisites left undone which may disqualify late applicants (e.g., missing documentation, assignment completion). \n",
      "4. You have not been previously rejected for enrolling and if there's still a chance to reapply after the deadline passes given special circumstances or exceptions by course administrators such as financial hardships affecting your ability to pay tuition fees immediately upon confirmation of acceptance (in some cases, scholarships can be applied).\n",
      "5. Lastly, it is always advised to directly contact the institution's enrollment office for an explicit answer regarding late applications due to potential exceptions and varying policies on this matter by different courses or educational programs at a university or college.\n"
     ]
    }
   ],
   "execution_count": 11
  },
  {
   "metadata": {
    "ExecuteTime": {
     "end_time": "2024-07-04T02:04:11.086652Z",
     "start_time": "2024-07-04T02:03:00.419383Z"
    }
   },
   "cell_type": "code",
   "source": "print(rag(query))",
   "id": "8f64449dd047a747",
   "outputs": [
    {
     "name": "stdout",
     "output_type": "stream",
     "text": [
      " Yes, even if you miss the start date of our course that begins at Google Cloud's public calendar for Computer Science in Data Analytics and Visualization (starting from Jan 15th), 2024 at 17h00 time zone on desktop devices, as a self-paced student who missed registration before the start date, you are still able to submit your homework assignments. However, remember there will be final project deadlines after submission of these tasks and don't procrastinate with this assignment due for late submissions being accepted till Mar 1st only from midnight-2am time zone on GMT+8 timezone as well noted in our FAQ document that captures frequently asked technical questions.\n",
      "You can continue your learning journey, by following the course materials stored post termination of said program and prepare yourself for participation with subsequent cohorts through completion preparation activities such as continued homework submission or final capstone project work using channels like Google Calendar announcements telegram channel available to registered students even beyond class timings. \n",
      "In addition, support is always present via the slack platform that remains active post course termination and you are encouraged to participate actively in discussions as a proactive student while referring firstly to frequently asked questions or secondarily tagging @ZoomcampQABot for further search assistance within this open communication channel. Please note, if there's any doubt regarding your capability due to missing course commencement date, you can join us on the slack community through DataTalks Club and discuss with fellow students who will guide towards understanding self-paced mode regulations as they pertain specifically to missed or late start registration.\n"
     ]
    }
   ],
   "execution_count": 14
  },
  {
   "metadata": {},
   "cell_type": "code",
   "outputs": [],
   "execution_count": null,
   "source": "",
   "id": "6b2074fa5bb4c338"
  }
 ],
 "metadata": {
  "kernelspec": {
   "display_name": "Python 3",
   "language": "python",
   "name": "python3"
  },
  "language_info": {
   "codemirror_mode": {
    "name": "ipython",
    "version": 2
   },
   "file_extension": ".py",
   "mimetype": "text/x-python",
   "name": "python",
   "nbconvert_exporter": "python",
   "pygments_lexer": "ipython2",
   "version": "2.7.6"
  }
 },
 "nbformat": 4,
 "nbformat_minor": 5
}
