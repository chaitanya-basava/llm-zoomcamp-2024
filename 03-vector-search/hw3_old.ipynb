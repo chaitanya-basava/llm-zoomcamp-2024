{
 "cells": [
  {
   "metadata": {},
   "cell_type": "markdown",
   "source": "Q1",
   "id": "cb844919192a958"
  },
  {
   "metadata": {
    "ExecuteTime": {
     "end_time": "2024-07-07T22:31:43.716833Z",
     "start_time": "2024-07-07T22:31:43.694579Z"
    }
   },
   "cell_type": "code",
   "source": [
    "import json\n",
    "\n",
    "with open('documents.json', 'rt') as f_in:\n",
    "    documents = json.load(f_in)\n",
    "\n",
    "len(documents)"
   ],
   "id": "abb15edb9e6f7194",
   "outputs": [
    {
     "data": {
      "text/plain": [
       "948"
      ]
     },
     "execution_count": 1,
     "metadata": {},
     "output_type": "execute_result"
    }
   ],
   "execution_count": 1
  },
  {
   "metadata": {},
   "cell_type": "markdown",
   "source": [
    "Q 2,3\n",
    "\n",
    "Q2 answer can be found at - https://sbert.net/docs/sentence_transformer/pretrained_models.html"
   ],
   "id": "5d3bf8408f90cc11"
  },
  {
   "metadata": {
    "ExecuteTime": {
     "end_time": "2024-07-07T22:31:45.940971Z",
     "start_time": "2024-07-07T22:31:45.817634Z"
    }
   },
   "cell_type": "code",
   "source": "from tqdm.auto import tqdm",
   "id": "9f2dfc0a1c9c821c",
   "outputs": [],
   "execution_count": 2
  },
  {
   "metadata": {
    "ExecuteTime": {
     "end_time": "2024-07-07T22:31:53.464921Z",
     "start_time": "2024-07-07T22:31:47.487654Z"
    }
   },
   "cell_type": "code",
   "source": [
    "# This is a new library compared to the previous modules. \n",
    "# Please perform \"pip install sentence_transformers==2.7.0\"\n",
    "\n",
    "from sentence_transformers import SentenceTransformer\n",
    "\n",
    "# if you get an error do the following:\n",
    "# 1. Uninstall numpy \n",
    "# 2. Uninstall torch\n",
    "# 3. pip install numpy==1.26.4\n",
    "# 4. pip install torch\n",
    "# run the above cell, it should work\n",
    "model = SentenceTransformer(\"all-MiniLM-L12-v2\")"
   ],
   "id": "582dfa31d28147ca",
   "outputs": [],
   "execution_count": 3
  },
  {
   "metadata": {
    "ExecuteTime": {
     "end_time": "2024-07-07T22:31:55.038553Z",
     "start_time": "2024-07-07T22:31:54.974520Z"
    }
   },
   "cell_type": "code",
   "source": "len(model.encode(\"This is a simple sentence\"))",
   "id": "35b193ae8fd310b7",
   "outputs": [
    {
     "data": {
      "text/plain": [
       "384"
      ]
     },
     "execution_count": 4,
     "metadata": {},
     "output_type": "execute_result"
    }
   ],
   "execution_count": 4
  },
  {
   "metadata": {
    "ExecuteTime": {
     "end_time": "2024-07-07T22:32:12.575277Z",
     "start_time": "2024-07-07T22:31:55.889445Z"
    }
   },
   "cell_type": "code",
   "source": [
    "#created the dense vector using the pre-trained model\n",
    "operations = []\n",
    "for doc in tqdm(documents):\n",
    "    # Transforming the title into an embedding using the model\n",
    "    doc[\"question_vector\"] = model.encode(doc[\"question\"]).tolist()\n",
    "    operations.append(doc)"
   ],
   "id": "c819c8ea1a137e29",
   "outputs": [
    {
     "data": {
      "text/plain": [
       "  0%|          | 0/948 [00:00<?, ?it/s]"
      ],
      "application/vnd.jupyter.widget-view+json": {
       "version_major": 2,
       "version_minor": 0,
       "model_id": "765286c9a0d448658b2d7015f67a79fd"
      }
     },
     "metadata": {},
     "output_type": "display_data"
    }
   ],
   "execution_count": 5
  },
  {
   "metadata": {
    "ExecuteTime": {
     "end_time": "2024-07-07T22:32:13.054976Z",
     "start_time": "2024-07-07T22:32:12.578103Z"
    }
   },
   "cell_type": "code",
   "source": [
    "from elasticsearch import Elasticsearch\n",
    "es_client = Elasticsearch('http://localhost:9200') \n",
    "\n",
    "es_client.info()"
   ],
   "id": "53bbf28ecf470d64",
   "outputs": [
    {
     "data": {
      "text/plain": [
       "ObjectApiResponse({'name': '97d47c998a64', 'cluster_name': 'docker-cluster', 'cluster_uuid': '3_hR6bhbRfSFv8fBYSTcbg', 'version': {'number': '8.7.1', 'build_flavor': 'default', 'build_type': 'docker', 'build_hash': 'f229ed3f893a515d590d0f39b05f68913e2d9b53', 'build_date': '2023-04-27T04:33:42.127815583Z', 'build_snapshot': False, 'lucene_version': '9.5.0', 'minimum_wire_compatibility_version': '7.17.0', 'minimum_index_compatibility_version': '7.0.0'}, 'tagline': 'You Know, for Search'})"
      ]
     },
     "execution_count": 6,
     "metadata": {},
     "output_type": "execute_result"
    }
   ],
   "execution_count": 6
  },
  {
   "metadata": {},
   "cell_type": "markdown",
   "source": "Q 4,5",
   "id": "dc1a31223f0d624"
  },
  {
   "metadata": {
    "ExecuteTime": {
     "end_time": "2024-07-07T22:41:35.623442Z",
     "start_time": "2024-07-07T22:41:35.450038Z"
    }
   },
   "cell_type": "code",
   "source": [
    "index_name = \"course-questions\"\n",
    "\n",
    "es_client.indices.delete(index=index_name, ignore_unavailable=True)\n",
    "es_client.indices.create(\n",
    "    index=index_name,\n",
    "    settings={\n",
    "        \"number_of_shards\": 1,\n",
    "        \"number_of_replicas\": 0\n",
    "    },\n",
    "    mappings={\n",
    "        \"properties\": {\n",
    "            \"text\": {\"type\": \"text\"},\n",
    "            \"section\": {\"type\": \"keyword\"},\n",
    "            \"question\": {\"type\": \"text\"},\n",
    "            \"course\": {\"type\": \"keyword\"} ,\n",
    "            \"question_vector\":{\n",
    "                \"type\":\"dense_vector\", \"dims\": 384,\n",
    "                \"index\":True, \"similarity\": \"cosine\"\n",
    "            },\n",
    "        }\n",
    "    }\n",
    ")"
   ],
   "id": "ba9674c467fcac2d",
   "outputs": [
    {
     "data": {
      "text/plain": [
       "ObjectApiResponse({'acknowledged': True, 'shards_acknowledged': True, 'index': 'course-questions'})"
      ]
     },
     "execution_count": 13,
     "metadata": {},
     "output_type": "execute_result"
    }
   ],
   "execution_count": 13
  },
  {
   "metadata": {
    "ExecuteTime": {
     "end_time": "2024-07-07T22:41:44.141763Z",
     "start_time": "2024-07-07T22:41:39.232092Z"
    }
   },
   "cell_type": "code",
   "source": [
    "for doc in tqdm(operations):\n",
    "    try:\n",
    "        es_client.index(index=index_name, document=doc)\n",
    "    except Exception as e:\n",
    "        print(e)"
   ],
   "id": "96705d482c8d6af",
   "outputs": [
    {
     "data": {
      "text/plain": [
       "  0%|          | 0/948 [00:00<?, ?it/s]"
      ],
      "application/vnd.jupyter.widget-view+json": {
       "version_major": 2,
       "version_minor": 0,
       "model_id": "49d93cee9c264165a41f9d5fc134ce52"
      }
     },
     "metadata": {},
     "output_type": "display_data"
    }
   ],
   "execution_count": 14
  },
  {
   "metadata": {
    "ExecuteTime": {
     "end_time": "2024-07-07T22:41:46.094245Z",
     "start_time": "2024-07-07T22:41:45.948084Z"
    }
   },
   "cell_type": "code",
   "source": [
    "search_term = \"how to enrol to course?\"\n",
    "vector_search_term = model.encode(search_term)\n",
    "\n",
    "knn_query = {\n",
    "    \"field\" : \"question_vector\",\n",
    "    \"query_vector\" :  vector_search_term,\n",
    "    \"k\" : 5,\n",
    "    \"num_candidates\" : 10000, \n",
    "}\n",
    "\n",
    "res = es_client.search(index=index_name, knn=knn_query,\n",
    "                       source=[\"text\", \"section\", \"question\", \"course\"])\n",
    "res[\"hits\"][\"hits\"]"
   ],
   "id": "de9b99069c37873f",
   "outputs": [
    {
     "data": {
      "text/plain": [
       "[{'_index': 'course-questions',\n",
       "  '_id': 'TGFcj5ABp2H1AM4wJmUK',\n",
       "  '_score': 0.85204804,\n",
       "  '_source': {'text': 'GitHub - DataTalksClub data-engineering-zoomcamp#prerequisites',\n",
       "   'section': 'General course-related questions',\n",
       "   'question': 'Course - What are the prerequisites for this course?',\n",
       "   'course': 'data-engineering-zoomcamp'}},\n",
       " {'_index': 'course-questions',\n",
       "  '_id': 'bWFcj5ABp2H1AM4wJmXT',\n",
       "  '_score': 0.8381672,\n",
       "  '_source': {'text': 'Star the repo! Share it with friends if you find it useful ❣️\\nCreate a PR if you see you can improve the text or the structure of the repository.',\n",
       "   'section': 'General course-related questions',\n",
       "   'question': 'How can we contribute to the course?',\n",
       "   'course': 'data-engineering-zoomcamp'}},\n",
       " {'_index': 'course-questions',\n",
       "  '_id': 'D2Fcj5ABp2H1AM4wL2eR',\n",
       "  '_score': 0.8284228,\n",
       "  '_source': {'text': 'Welcome to the course! Go to the course page (http://mlzoomcamp.com/), scroll down and start going through the course materials. Then read everything in the cohort folder for your cohort’s year.\\nClick on the links and start watching the videos. Also watch office hours from previous cohorts. Go to DTC youtube channel and click on Playlists and search for {course yyyy}. ML Zoomcamp was first launched in 2021.\\nOr you can just use this link: http://mlzoomcamp.com/#syllabus',\n",
       "   'section': 'General course-related questions',\n",
       "   'question': 'I just joined. What should I do next? How can I access course materials?',\n",
       "   'course': 'machine-learning-zoomcamp'}},\n",
       " {'_index': 'course-questions',\n",
       "  '_id': 'T2Fcj5ABp2H1AM4wJmUh',\n",
       "  '_score': 0.8260865,\n",
       "  '_source': {'text': 'You can start by installing and setting up all the dependencies and requirements:\\nGoogle cloud account\\nGoogle Cloud SDK\\nPython 3 (installed with Anaconda)\\nTerraform\\nGit\\nLook over the prerequisites and syllabus to see if you are comfortable with these subjects.',\n",
       "   'section': 'General course-related questions',\n",
       "   'question': 'Course - What can I do before the course starts?',\n",
       "   'course': 'data-engineering-zoomcamp'}},\n",
       " {'_index': 'course-questions',\n",
       "  '_id': '5mFcj5ABp2H1AM4wLmbg',\n",
       "  '_score': 0.81018746,\n",
       "  '_source': {'text': 'The display name listed on the leaderboard is an auto-generated randomized name. You can edit it to be a nickname, or your real name, if you prefer. Your entry on the Leaderboard is the one highlighted in teal(?) / light green (?).\\nThe Certificate name should be your actual name that you want to appear on your certificate after completing the course.\\nThe \"Display on Leaderboard\" option indicates whether you want your name to be listed on the course leaderboard.\\nQuestion: Is it possible to create external tables in BigQuery using URLs, such as those from the NY Taxi data website?\\nAnswer: Not really, only Bigtable, Cloud Storage, and Google Drive are supported data stores.',\n",
       "   'section': 'Workshop 1 - dlthub',\n",
       "   'question': 'Edit Course Profile.',\n",
       "   'course': 'data-engineering-zoomcamp'}}]"
      ]
     },
     "execution_count": 15,
     "metadata": {},
     "output_type": "execute_result"
    }
   ],
   "execution_count": 15
  },
  {
   "metadata": {},
   "cell_type": "markdown",
   "source": "Q 6",
   "id": "488421be0fbedbd7"
  },
  {
   "metadata": {
    "ExecuteTime": {
     "end_time": "2024-07-07T22:41:53.177595Z",
     "start_time": "2024-07-07T22:41:53.157576Z"
    }
   },
   "cell_type": "code",
   "source": [
    "knn_query = {\n",
    "    \"field\" : \"question_vector\",\n",
    "    \"query_vector\" :  vector_search_term,\n",
    "    \"k\" : 5,\n",
    "    \"num_candidates\" : 10000\n",
    "}\n",
    "\n",
    "response = es_client.search(\n",
    "    index=index_name,\n",
    "    query={\n",
    "        \"match\": {\n",
    "            \"section\": \"General course-related questions\"\n",
    "        },\n",
    "    },\n",
    "    knn=knn_query,\n",
    "    size=5,\n",
    "    source=[\"text\", \"section\", \"question\", \"course\"]\n",
    ")\n",
    "\n",
    "response[\"hits\"][\"hits\"]"
   ],
   "id": "eb4d6d76ba3c4025",
   "outputs": [
    {
     "data": {
      "text/plain": [
       "[{'_index': 'course-questions',\n",
       "  '_id': 'TGFcj5ABp2H1AM4wJmUK',\n",
       "  '_score': 3.4953294,\n",
       "  '_source': {'text': 'GitHub - DataTalksClub data-engineering-zoomcamp#prerequisites',\n",
       "   'section': 'General course-related questions',\n",
       "   'question': 'Course - What are the prerequisites for this course?',\n",
       "   'course': 'data-engineering-zoomcamp'}},\n",
       " {'_index': 'course-questions',\n",
       "  '_id': 'bWFcj5ABp2H1AM4wJmXT',\n",
       "  '_score': 3.4814484,\n",
       "  '_source': {'text': 'Star the repo! Share it with friends if you find it useful ❣️\\nCreate a PR if you see you can improve the text or the structure of the repository.',\n",
       "   'section': 'General course-related questions',\n",
       "   'question': 'How can we contribute to the course?',\n",
       "   'course': 'data-engineering-zoomcamp'}},\n",
       " {'_index': 'course-questions',\n",
       "  '_id': 'D2Fcj5ABp2H1AM4wL2eR',\n",
       "  '_score': 3.471704,\n",
       "  '_source': {'text': 'Welcome to the course! Go to the course page (http://mlzoomcamp.com/), scroll down and start going through the course materials. Then read everything in the cohort folder for your cohort’s year.\\nClick on the links and start watching the videos. Also watch office hours from previous cohorts. Go to DTC youtube channel and click on Playlists and search for {course yyyy}. ML Zoomcamp was first launched in 2021.\\nOr you can just use this link: http://mlzoomcamp.com/#syllabus',\n",
       "   'section': 'General course-related questions',\n",
       "   'question': 'I just joined. What should I do next? How can I access course materials?',\n",
       "   'course': 'machine-learning-zoomcamp'}},\n",
       " {'_index': 'course-questions',\n",
       "  '_id': 'T2Fcj5ABp2H1AM4wJmUh',\n",
       "  '_score': 3.4693677,\n",
       "  '_source': {'text': 'You can start by installing and setting up all the dependencies and requirements:\\nGoogle cloud account\\nGoogle Cloud SDK\\nPython 3 (installed with Anaconda)\\nTerraform\\nGit\\nLook over the prerequisites and syllabus to see if you are comfortable with these subjects.',\n",
       "   'section': 'General course-related questions',\n",
       "   'question': 'Course - What can I do before the course starts?',\n",
       "   'course': 'data-engineering-zoomcamp'}},\n",
       " {'_index': 'course-questions',\n",
       "  '_id': 'S2Fcj5ABp2H1AM4wJWXW',\n",
       "  '_score': 2.6432812,\n",
       "  '_source': {'text': \"The purpose of this document is to capture frequently asked technical questions\\nThe exact day and hour of the course will be 15th Jan 2024 at 17h00. The course will start with the first  “Office Hours'' live.1\\nSubscribe to course public Google Calendar (it works from Desktop only).\\nRegister before the course starts using this link.\\nJoin the course Telegram channel with announcements.\\nDon’t forget to register in DataTalks.Club's Slack and join the channel.\",\n",
       "   'section': 'General course-related questions',\n",
       "   'question': 'Course - When will the course start?',\n",
       "   'course': 'data-engineering-zoomcamp'}}]"
      ]
     },
     "execution_count": 16,
     "metadata": {},
     "output_type": "execute_result"
    }
   ],
   "execution_count": 16
  },
  {
   "metadata": {},
   "cell_type": "code",
   "outputs": [],
   "execution_count": null,
   "source": "",
   "id": "b5b4ca3d736c88a6"
  }
 ],
 "metadata": {
  "kernelspec": {
   "display_name": "Python 3",
   "language": "python",
   "name": "python3"
  },
  "language_info": {
   "codemirror_mode": {
    "name": "ipython",
    "version": 2
   },
   "file_extension": ".py",
   "mimetype": "text/x-python",
   "name": "python",
   "nbconvert_exporter": "python",
   "pygments_lexer": "ipython2",
   "version": "2.7.6"
  }
 },
 "nbformat": 4,
 "nbformat_minor": 5
}
